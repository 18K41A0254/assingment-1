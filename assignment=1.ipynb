{
  "nbformat": 4,
  "nbformat_minor": 0,
  "metadata": {
    "colab": {
      "name": "assignment=1",
      "provenance": [],
      "authorship_tag": "ABX9TyM6tFBCPy5/hBIS1VW9vKqK",
      "include_colab_link": true
    },
    "kernelspec": {
      "name": "python3",
      "display_name": "Python 3"
    }
  },
  "cells": [
    {
      "cell_type": "markdown",
      "metadata": {
        "id": "view-in-github",
        "colab_type": "text"
      },
      "source": [
        "<a href=\"https://colab.research.google.com/github/18K41A0254/assingment-1/blob/master/assignment%3D1.ipynb\" target=\"_parent\"><img src=\"https://colab.research.google.com/assets/colab-badge.svg\" alt=\"Open In Colab\"/></a>"
      ]
    },
    {
      "cell_type": "code",
      "metadata": {
        "id": "uGz6X5uG2qpO",
        "colab_type": "code",
        "colab": {
          "base_uri": "https://localhost:8080/",
          "height": 67
        },
        "outputId": "511aa5b2-cdc2-4a7e-989f-8369394b3e62"
      },
      "source": [
        "\n",
        "a=int(input(\"enter the year\\n\"))\n",
        "r={0:\"monkey\",1:\"rooster\",2:\"dog\",3:\"pig\",4:\"rat\",5:\"ox\",6:\"tiger\",7:\"rabbit\",8:\"dragon\",9:\"snake\",10:\"horse\",11:\"sheep\"}\n",
        "v=a%12\n",
        "print(r[v])"
      ],
      "execution_count": 5,
      "outputs": [
        {
          "output_type": "stream",
          "text": [
            "enter the year\n",
            "2017\n",
            "rooster\n"
          ],
          "name": "stdout"
        }
      ]
    },
    {
      "cell_type": "code",
      "metadata": {
        "id": "2lGzkdXA6H2U",
        "colab_type": "code",
        "colab": {}
      },
      "source": [
        "2. A Quick Fox Transport Co. wants to develop an application for calculating amount based\n",
        "on distance and weight of goods. The charges (Amount) to be calculated as per rates given\n",
        "below. \n"
      ],
      "execution_count": null,
      "outputs": []
    },
    {
      "cell_type": "code",
      "metadata": {
        "id": "CoL16rJu6z53",
        "colab_type": "code",
        "colab": {
          "base_uri": "https://localhost:8080/",
          "height": 118
        },
        "outputId": "bde9b6be-b227-46c1-b249-0818b2a83149"
      },
      "source": [
        "dist=int(input(\"enter the distance\\n\"))\n",
        "w=int(input(\"enter weight\\n\"))\n",
        "if d>=500:\n",
        "  if w>=100:\n",
        "    amount=dist*5\n",
        "  if w>=10 and w<=100:\n",
        "    amount=d*6\n",
        "  if w<7:\n",
        "    amount=dist*7\n",
        "else :\n",
        "  if w>=100:\n",
        "    amount=dist*8\n",
        "  else :\n",
        "    amount=dist*5    \n",
        "print(\"amount to be charged\",amount)\n",
        "print(\"end\")\n",
        "\n"
      ],
      "execution_count": 19,
      "outputs": [
        {
          "output_type": "stream",
          "text": [
            "enter the distance\n",
            "520\n",
            "enter weight\n",
            "50\n",
            "amount to be charged 3120\n",
            "end\n"
          ],
          "name": "stdout"
        }
      ]
    },
    {
      "cell_type": "code",
      "metadata": {
        "id": "rCcmbR93AmzB",
        "colab_type": "code",
        "colab": {}
      },
      "source": [
        "The Entertainment Paradise\n",
        "A theater in Delhi wants to develop a computerized Booking System. The theater offers\n",
        "different types of seats. The Ticket rates are- Stalls- Rs. 625/-, Circle- Rs.750/-, Upper\n",
        "Class- Rs.850/- and Box- Rs.1000/-. A discount is given 10% of total amount if tickets are\n",
        "purchased on Cash. In case of credit card holders 5% discount is given. "
      ],
      "execution_count": null,
      "outputs": []
    },
    {
      "cell_type": "code",
      "metadata": {
        "id": "UeDD6YLlA4fM",
        "colab_type": "code",
        "colab": {
          "base_uri": "https://localhost:8080/",
          "height": 84
        },
        "outputId": "31e8df72-6b0c-4b01-db0b-380a5a8919c4"
      },
      "source": [
        "seats=input(\"enter the type of seat\\n\")\n",
        "s={\"stalls\":625,\"circle\":750,\"upper class\":850,\"box\":1000}\n",
        "payment=input(\"enter payment\")\n",
        "p={\"cash\":0.1,\"credit card\":0.05}\n",
        "cost=s[seats]-(s[seats]*p[payment])\n",
        "print(\"cost of ticket:\",cost)"
      ],
      "execution_count": 26,
      "outputs": [
        {
          "output_type": "stream",
          "text": [
            "enter the type of seat\n",
            "circle\n",
            "enter paymentcash\n",
            "cost of ticket: 675.0\n"
          ],
          "name": "stdout"
        }
      ]
    },
    {
      "cell_type": "code",
      "metadata": {
        "id": "oIuCbP1_C-io",
        "colab_type": "code",
        "colab": {}
      },
      "source": [
        ""
      ],
      "execution_count": null,
      "outputs": []
    },
    {
      "cell_type": "code",
      "metadata": {
        "id": "tSX0Zi4xC8vY",
        "colab_type": "code",
        "colab": {}
      },
      "source": [
        "Develop a program that calculates the energy needed to heat water from an initial\n",
        "temperature to a final temperature. Your program should prompt the user to enter the\n",
        "amount of water in kilograms and the initial and final temperatures of the water. The\n",
        "formula to compute the energy is\n",
        "Q = M * (finalTemperature – initialTemperature) * 4184.\n",
        "where M is the weight of water in kilograms, temperatures are in degrees Celsius, and\n",
        "energy Q is measured in joules. (L6)"
      ],
      "execution_count": null,
      "outputs": []
    },
    {
      "cell_type": "code",
      "metadata": {
        "id": "B4ZJJUuYDBeE",
        "colab_type": "code",
        "colab": {
          "base_uri": "https://localhost:8080/",
          "height": 134
        },
        "outputId": "2aaef838-e62c-4c4a-a970-adcef0f58813"
      },
      "source": [
        "m=int(input(\"enter the weight of water in kg\\n\"))\n",
        "initialtemperature=int(input(\"enter the initial temperature\\n\"))\n",
        "finaltemperature=int(input(\"enter the final temperature\\n\"))\n",
        "q=m*(finaltemperature-initialtemperature)*4184\n",
        "print(\"total energy consumed \",q,\"j\")"
      ],
      "execution_count": 32,
      "outputs": [
        {
          "output_type": "stream",
          "text": [
            "enter the weight of water in kg\n",
            "100\n",
            "enter the initial temperature\n",
            "20\n",
            "enter the final temperature\n",
            "30\n",
            "total energy consumed  4184000 j\n"
          ],
          "name": "stdout"
        }
      ]
    },
    {
      "cell_type": "code",
      "metadata": {
        "id": "WgZtBx0gZuNH",
        "colab_type": "code",
        "colab": {}
      },
      "source": [
        "5. Develop a program that prompts user to enter month and print\n",
        "a. “Winter ” - December ,January and February\n",
        "b. “Spring” - March ,April and May\n",
        "c. “Summer” --- June ,July, August\n",
        "d. “Autumn ” -- September ,October, November"
      ],
      "execution_count": null,
      "outputs": []
    },
    {
      "cell_type": "code",
      "metadata": {
        "id": "BctcnpigZvwP",
        "colab_type": "code",
        "colab": {}
      },
      "source": [
        ""
      ],
      "execution_count": null,
      "outputs": []
    },
    {
      "cell_type": "code",
      "metadata": {
        "id": "VFnsHqqUZwaF",
        "colab_type": "code",
        "colab": {
          "base_uri": "https://localhost:8080/",
          "height": 67
        },
        "outputId": "894db7b0-8a47-4d61-d9a7-44d9ff39ae27"
      },
      "source": [
        "month=input(\"enter the month\\n\")\n",
        "m={\"january\":\"winter\",\"february\":\"winter\",\"march\":\"spring\",\"april\":\"spring\",\"may\":\"spring\",\"june\":\"summer\",\"july\":\"summer\",\"august\":\"summer\",\"september\":\"autumn\",\"october\":\"autumn\",\"november\":\"autumn\",\"december\":\"winter\"}\n",
        "print(m[month])"
      ],
      "execution_count": 34,
      "outputs": [
        {
          "output_type": "stream",
          "text": [
            "enter the month\n",
            "january\n",
            "winter\n"
          ],
          "name": "stdout"
        }
      ]
    },
    {
      "cell_type": "code",
      "metadata": {
        "id": "i5hZTXvVaWX0",
        "colab_type": "code",
        "colab": {}
      },
      "source": [
        "6. Body Mass Index"
      ],
      "execution_count": null,
      "outputs": []
    },
    {
      "cell_type": "code",
      "metadata": {
        "id": "C_6GPhhXavcg",
        "colab_type": "code",
        "colab": {
          "base_uri": "https://localhost:8080/",
          "height": 134
        },
        "outputId": "a33e3e4f-ba2b-427a-cc27-47a0453108cb"
      },
      "source": [
        "weight=float(input(\"enter weight in pounds\\n\"))\n",
        "height=float(input(\"enter height in inches\\n\"))\n",
        "BMI=(weight*0.45359237)/((height*0.0254)**2)\n",
        "print(\"BMI is\",BMI)\n",
        "if BMI<18.5:\n",
        "  print(\"underweight\")\n",
        "elif BMI>=18.5 and BMI<25.0:\n",
        "  print(\"normal\")\n",
        "elif BMI>=25.0 and BMI<30.0:\n",
        "  print(\"overweight\")\n",
        "elif BMI>=30.0:\n",
        "  print(\"obese\")\n",
        "print(\"end\")"
      ],
      "execution_count": 37,
      "outputs": [
        {
          "output_type": "stream",
          "text": [
            "enter weight in pounds\n",
            "10\n",
            "enter height in inches\n",
            "5.3\n",
            "BMI is 250.29176918446404\n",
            "obese\n",
            "end\n"
          ],
          "name": "stdout"
        }
      ]
    },
    {
      "cell_type": "code",
      "metadata": {
        "id": "_qQHUwdbgsox",
        "colab_type": "code",
        "colab": {}
      },
      "source": [
        "7. Write a program that reads an integer between 100 and 1000 and adds all the digits in the\n",
        "integer ( ex: input 745 # output =16 (7+4+5) )"
      ],
      "execution_count": null,
      "outputs": []
    },
    {
      "cell_type": "code",
      "metadata": {
        "id": "CW9vDfoKg5YZ",
        "colab_type": "code",
        "colab": {
          "base_uri": "https://localhost:8080/",
          "height": 50
        },
        "outputId": "4bf2cf32-4260-4867-9231-73ca4d16cc8d"
      },
      "source": [
        "n=int(input(\"enter a number between 100 and 1000 :\"))\n",
        "sum=0\n",
        "while(n>0):\n",
        "  r=n%10\n",
        "  sum=sum+r\n",
        "  n=n//10\n",
        "print(sum)"
      ],
      "execution_count": 40,
      "outputs": [
        {
          "output_type": "stream",
          "text": [
            "enter a number between 100 and 1000 :101\n",
            "2\n"
          ],
          "name": "stdout"
        }
      ]
    },
    {
      "cell_type": "code",
      "metadata": {
        "id": "Pomrs2MsiQ6k",
        "colab_type": "code",
        "colab": {}
      },
      "source": [
        ""
      ],
      "execution_count": null,
      "outputs": []
    },
    {
      "cell_type": "code",
      "metadata": {
        "id": "oupidIMTiSTV",
        "colab_type": "code",
        "colab": {}
      },
      "source": [
        ""
      ],
      "execution_count": null,
      "outputs": []
    },
    {
      "cell_type": "code",
      "metadata": {
        "id": "3_sYCTBBaHRg",
        "colab_type": "code",
        "colab": {}
      },
      "source": [
        ""
      ],
      "execution_count": null,
      "outputs": []
    },
    {
      "cell_type": "code",
      "metadata": {
        "id": "KtnLJYjlYukL",
        "colab_type": "code",
        "colab": {}
      },
      "source": [
        ""
      ],
      "execution_count": null,
      "outputs": []
    },
    {
      "cell_type": "code",
      "metadata": {
        "id": "sdZRvHI9YsaA",
        "colab_type": "code",
        "colab": {}
      },
      "source": [
        ""
      ],
      "execution_count": null,
      "outputs": []
    },
    {
      "cell_type": "code",
      "metadata": {
        "id": "o8f_un475J_x",
        "colab_type": "code",
        "colab": {}
      },
      "source": [
        ""
      ],
      "execution_count": null,
      "outputs": []
    }
  ]
}