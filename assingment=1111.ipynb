{
  "nbformat": 4,
  "nbformat_minor": 0,
  "metadata": {
    "colab": {
      "name": "assingment=1111",
      "provenance": [],
      "authorship_tag": "ABX9TyM5dzHSmeBDLCUZrn4InCKr",
      "include_colab_link": true
    },
    "kernelspec": {
      "name": "python3",
      "display_name": "Python 3"
    }
  },
  "cells": [
    {
      "cell_type": "markdown",
      "metadata": {
        "id": "view-in-github",
        "colab_type": "text"
      },
      "source": [
        "<a href=\"https://colab.research.google.com/github/18K41A0254/assingment-1/blob/master/assingment%3D1111.ipynb\" target=\"_parent\"><img src=\"https://colab.research.google.com/assets/colab-badge.svg\" alt=\"Open In Colab\"/></a>"
      ]
    },
    {
      "cell_type": "code",
      "metadata": {
        "id": "tDKdVErnbEmq",
        "colab_type": "code",
        "colab": {}
      },
      "source": [
        "8. Print all palindrome numbers between 1 to 1000.\n",
        "\n"
      ],
      "execution_count": null,
      "outputs": []
    },
    {
      "cell_type": "code",
      "metadata": {
        "id": "d-DzyNzrbHwy",
        "colab_type": "code",
        "colab": {}
      },
      "source": [
        "\n"
      ],
      "execution_count": null,
      "outputs": []
    },
    {
      "cell_type": "code",
      "metadata": {
        "id": "29oqDZ1bfPay",
        "colab_type": "code",
        "colab": {}
      },
      "source": [
        "write a palindrom 1 to 1000"
      ],
      "execution_count": null,
      "outputs": []
    },
    {
      "cell_type": "code",
      "metadata": {
        "id": "xJGURnkygiDV",
        "colab_type": "code",
        "colab": {}
      },
      "source": [
        ""
      ],
      "execution_count": null,
      "outputs": []
    },
    {
      "cell_type": "code",
      "metadata": {
        "id": "oelNXO_ofTXA",
        "colab_type": "code",
        "colab": {
          "base_uri": "https://localhost:8080/",
          "height": 50
        },
        "outputId": "e37c3cdd-7c72-42da-d203-e861dfc1c9aa"
      },
      "source": [
        "minimum = int(input(\" Please Enter the Minimum Value : \"))\n",
        "maximum = int(input(\" Please Enter the Maximum Value : \"))\n",
        "for num in range(minimum, maximum + 1):\n",
        "    temp = num\n",
        "    reverse = 0\n",
        "    \n",
        "    while(temp > 0):\n",
        "        Reminder = temp % 10\n",
        "        reverse = (reverse * 10) + Reminder\n",
        "        temp = temp //10\n",
        "\n",
        "    if(num == reverse):\n",
        "        print(\"%d \" %num, end = '  ')\n"
      ],
      "execution_count": null,
      "outputs": [
        {
          "output_type": "stream",
          "text": [
            " Please Enter the Minimum Value : 12\n",
            " Please Enter the Maximum Value : 2\n"
          ],
          "name": "stdout"
        }
      ]
    },
    {
      "cell_type": "code",
      "metadata": {
        "id": "4JHOPhTogk_P",
        "colab_type": "code",
        "colab": {}
      },
      "source": [
        "write armstrong number 1 to 1000"
      ],
      "execution_count": null,
      "outputs": []
    },
    {
      "cell_type": "code",
      "metadata": {
        "id": "auWXPmK1gr0v",
        "colab_type": "code",
        "colab": {
          "base_uri": "https://localhost:8080/",
          "height": 50
        },
        "outputId": "ccb5a52f-0f23-4ca4-acc9-0e1ba56b807a"
      },
      "source": [
        "lower = int(input(\"Enter lower range: \"))\n",
        "upper = int(input(\"Enter upper range: \"))\n",
        " \n",
        "for num in range(lower,upper + 1):\n",
        "   sum = 0\n",
        "   temp = num\n",
        "   while temp > 0:\n",
        "       digit = temp % 10\n",
        "       sum += digit ** 3\n",
        "       temp //= 10\n",
        " \n",
        "   if num == sum:\n",
        "       print(num)\n"
      ],
      "execution_count": null,
      "outputs": [
        {
          "output_type": "stream",
          "text": [
            "Enter lower range: 13\n",
            "Enter upper range: 65\n"
          ],
          "name": "stdout"
        }
      ]
    },
    {
      "cell_type": "code",
      "metadata": {
        "id": "LtmPZm94hEe8",
        "colab_type": "code",
        "colab": {}
      },
      "source": [
        "\"9.Write a program that reads an integer between 100 and 1000 and adds all the digits in the integer\"\"\""
      ],
      "execution_count": null,
      "outputs": []
    },
    {
      "cell_type": "code",
      "metadata": {
        "id": "IeG5m0xphF2b",
        "colab_type": "code",
        "colab": {}
      },
      "source": [
        "n=int(input(\"Enter a number:\"))\n",
        "total=0\n",
        "if (n>100) and (n<1000):\n",
        "  while(n>0):\n",
        "    dig=n%10\n",
        "    total=total+dig\n",
        "    n=n//10\n",
        "else:\n",
        "  print('number is not in range')\n",
        "print(\"The total sum of digits is:\",total)\n"
      ],
      "execution_count": null,
      "outputs": []
    },
    {
      "cell_type": "code",
      "metadata": {
        "id": "G-yd04KxhOLW",
        "colab_type": "code",
        "colab": {}
      },
      "source": [
        "10. Write a Java program which iterates the integers from 1 t100. For multiples of three print \"Fizz\" instead of the number and print \"Buzz\" for the multiples of five. When number is divided by both three and five, print \"fizz buzz\".\"\"\""
      ],
      "execution_count": null,
      "outputs": []
    },
    {
      "cell_type": "code",
      "metadata": {
        "id": "Mhz4Q_UgheDR",
        "colab_type": "code",
        "colab": {}
      },
      "source": [
        "for i in range(1,100):\n",
        "  if i%3==0 and i%5==0:\n",
        "    print('Fizz Buzz',i) \n",
        "  elif i%3==0:\n",
        "    print('FIZZ',i) \n",
        "  elif i%5==0:\n",
        "    print('Buzz',i)"
      ],
      "execution_count": null,
      "outputs": []
    },
    {
      "cell_type": "code",
      "metadata": {
        "id": "4KMznGYMhp9V",
        "colab_type": "code",
        "colab": {}
      },
      "source": [
        "11.Spider Problem: A spider present at the bottom of the well of height H, needs to get out of it, using the slippery wall of the well. It decides to climb up the well; it goes up U meters and slips down D meters in one single step. So, in each step it covers (U-D) meters, and if the spider gets out of the well by covering U meters in the last step it doesnt a slip back. For example, if the spider climbs up 5 meters and slips down by 3 meters in a single step, it covers (U - D) m in each step and 96 m in 48 steps, but in the 49th step it climbs up 5 m and reaches out of the well and it will not slip down and the step is counted as one step.\"\"\"\n",
        "\n"
      ],
      "execution_count": null,
      "outputs": []
    },
    {
      "cell_type": "code",
      "metadata": {
        "id": "nos0ZUH8h8Fi",
        "colab_type": "code",
        "colab": {}
      },
      "source": [
        "H=int(input('enter height of the of the well :'))\n",
        "U=int(input('enter step up meters :'))\n",
        "D=int(input('enter step down meters :'))\n",
        "h=0\n",
        "step=0\n",
        "while H>h :\n",
        "  h=h+U\n",
        "  step=step+1\n",
        "  h=h-D\n",
        "print('number of steps :', step)\n",
        "© 2020 GitHub, Inc.\n",
        "Terms\n",
        "Pri"
      ],
      "execution_count": null,
      "outputs": []
    },
    {
      "cell_type": "code",
      "metadata": {
        "id": "BCZ2-Wczg7Ld",
        "colab_type": "code",
        "colab": {}
      },
      "source": [
        ""
      ],
      "execution_count": null,
      "outputs": []
    },
    {
      "cell_type": "code",
      "metadata": {
        "id": "OFIbvJiJg2bX",
        "colab_type": "code",
        "colab": {}
      },
      "source": [
        ""
      ],
      "execution_count": null,
      "outputs": []
    },
    {
      "cell_type": "code",
      "metadata": {
        "id": "jVTePAAUgbWd",
        "colab_type": "code",
        "colab": {}
      },
      "source": [
        ""
      ],
      "execution_count": null,
      "outputs": []
    }
  ]
}